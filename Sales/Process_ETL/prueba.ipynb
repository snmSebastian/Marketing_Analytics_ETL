{
 "cells": [
  {
   "cell_type": "code",
   "execution_count": 7,
   "id": "0194a211",
   "metadata": {},
   "outputs": [],
   "source": [
    "'''Esta funcion realiza la agrupacion de varios archivos xlsx en archivos parquet\n",
    "segmentados por año-mes.'''\n",
    "\n",
    "#--------------------------------------------------\n",
    "#---------------- LIBRERIAS -----------------------\n",
    "#--------------------------------------------------\n",
    "# Liberia\n",
    "import pandas as pd\n",
    "\n",
    "# Permite buscar y recuperar una lista de nombres de archivos que coinciden con un patrón específico.\n",
    "import glob\n",
    "import os\n",
    "\n",
    "# --- CONFIGURACION DE RUTAS ---\n",
    "# Ruta de entrada para los archivos históricos de ventas\n",
    "path_data_historic = r'C:\\Users\\SSN0609\\Stanley Black & Decker\\Latin America - Regional Marketing - Marketing Analytics\\Data\\Processed-Dataflow\\Fill_Rate\\fill_rate_2025-APR.parquet'\n",
    "df=pd.read_parquet(path_data_historic)"
   ]
  },
  {
   "cell_type": "code",
   "execution_count": 8,
   "id": "699d153a",
   "metadata": {},
   "outputs": [
    {
     "data": {
      "text/html": [
       "<div>\n",
       "<style scoped>\n",
       "    .dataframe tbody tr th:only-of-type {\n",
       "        vertical-align: middle;\n",
       "    }\n",
       "\n",
       "    .dataframe tbody tr th {\n",
       "        vertical-align: top;\n",
       "    }\n",
       "\n",
       "    .dataframe thead th {\n",
       "        text-align: right;\n",
       "    }\n",
       "</style>\n",
       "<table border=\"1\" class=\"dataframe\">\n",
       "  <thead>\n",
       "    <tr style=\"text-align: right;\">\n",
       "      <th></th>\n",
       "      <th>fk_Date</th>\n",
       "      <th>fk_year_month</th>\n",
       "      <th>fk_Country</th>\n",
       "      <th>fk_Sold_To_Customer_Code</th>\n",
       "      <th>fk_SKU</th>\n",
       "      <th>fk_date_country_customer_clasification</th>\n",
       "      <th>Fill Rate First Pass Order Qty</th>\n",
       "      <th>Fill Rate First Pass Invoice Qty</th>\n",
       "      <th>Fill Rate First Pass Order $</th>\n",
       "      <th>Fill Rate First Pass Invoice $</th>\n",
       "    </tr>\n",
       "  </thead>\n",
       "  <tbody>\n",
       "    <tr>\n",
       "      <th>0</th>\n",
       "      <td>2025-04-01</td>\n",
       "      <td>2025-APR</td>\n",
       "      <td>ARGENTINA</td>\n",
       "      <td>AR/00000006</td>\n",
       "      <td>144988-02</td>\n",
       "      <td>2025-APR-ARGENTINA-AR/00000006-NOT ASSIGNED-NO...</td>\n",
       "      <td>100</td>\n",
       "      <td>100</td>\n",
       "      <td>149.87</td>\n",
       "      <td>149.87</td>\n",
       "    </tr>\n",
       "    <tr>\n",
       "      <th>1</th>\n",
       "      <td>2025-04-01</td>\n",
       "      <td>2025-APR</td>\n",
       "      <td>ARGENTINA</td>\n",
       "      <td>AR/00000006</td>\n",
       "      <td>151281-08</td>\n",
       "      <td>2025-APR-ARGENTINA-AR/00000006-NOT ASSIGNED-NO...</td>\n",
       "      <td>20</td>\n",
       "      <td>20</td>\n",
       "      <td>254.19</td>\n",
       "      <td>254.19</td>\n",
       "    </tr>\n",
       "  </tbody>\n",
       "</table>\n",
       "</div>"
      ],
      "text/plain": [
       "      fk_Date fk_year_month fk_Country fk_Sold_To_Customer_Code     fk_SKU  \\\n",
       "0  2025-04-01      2025-APR  ARGENTINA              AR/00000006  144988-02   \n",
       "1  2025-04-01      2025-APR  ARGENTINA              AR/00000006  151281-08   \n",
       "\n",
       "              fk_date_country_customer_clasification  \\\n",
       "0  2025-APR-ARGENTINA-AR/00000006-NOT ASSIGNED-NO...   \n",
       "1  2025-APR-ARGENTINA-AR/00000006-NOT ASSIGNED-NO...   \n",
       "\n",
       "  Fill Rate First Pass Order Qty Fill Rate First Pass Invoice Qty  \\\n",
       "0                            100                              100   \n",
       "1                             20                               20   \n",
       "\n",
       "  Fill Rate First Pass Order $ Fill Rate First Pass Invoice $  \n",
       "0                       149.87                         149.87  \n",
       "1                       254.19                         254.19  "
      ]
     },
     "execution_count": 8,
     "metadata": {},
     "output_type": "execute_result"
    }
   ],
   "source": [
    "df.head(2)"
   ]
  },
  {
   "cell_type": "code",
   "execution_count": 8,
   "id": "45d6c419",
   "metadata": {},
   "outputs": [
    {
     "data": {
      "text/plain": [
       "Index(['Plant Code', 'Demand Group', 'Fiscal Period', 'GPP SBU',\n",
       "       'GPP Division Code', 'GPP Division', 'GPP Category', 'GPP Portfolio',\n",
       "       'Market Group', 'Global Material', 'Global Material Description',\n",
       "       'Demand History & Forecast-QTY', 'Shipment History& Forecast-Qty',\n",
       "       'Demand History & Forecast-GSV', 'Shipment History&Forecast-GSV',\n",
       "       'Fiscal Year', 'co'],\n",
       "      dtype='object')"
      ]
     },
     "execution_count": 8,
     "metadata": {},
     "output_type": "execute_result"
    }
   ],
   "source": [
    "df.columns"
   ]
  },
  {
   "cell_type": "code",
   "execution_count": 2,
   "id": "bc730894",
   "metadata": {},
   "outputs": [],
   "source": [
    "import pandas as pd\n",
    "ruta=r'C:\\Users\\SSN0609\\Stanley Black & Decker\\Latin America - Regional Marketing - Marketing Analytics\\Data\\Processed-Dataflow\\Demand\\demand_2023-APR.parquet'\n",
    "df=pd.read_parquet(ruta)"
   ]
  },
  {
   "cell_type": "code",
   "execution_count": 3,
   "id": "c572175f",
   "metadata": {},
   "outputs": [
    {
     "data": {
      "text/html": [
       "<div>\n",
       "<style scoped>\n",
       "    .dataframe tbody tr th:only-of-type {\n",
       "        vertical-align: middle;\n",
       "    }\n",
       "\n",
       "    .dataframe tbody tr th {\n",
       "        vertical-align: top;\n",
       "    }\n",
       "\n",
       "    .dataframe thead th {\n",
       "        text-align: right;\n",
       "    }\n",
       "</style>\n",
       "<table border=\"1\" class=\"dataframe\">\n",
       "  <thead>\n",
       "    <tr style=\"text-align: right;\">\n",
       "      <th></th>\n",
       "      <th>fk_Date</th>\n",
       "      <th>fk_year_month</th>\n",
       "      <th>fk_Country</th>\n",
       "      <th>fk_SKU</th>\n",
       "      <th>fk_date_country_clasification</th>\n",
       "      <th>Demand History &amp; Forecast-QTY</th>\n",
       "      <th>Shipment History&amp; Forecast-Qty</th>\n",
       "      <th>Demand History &amp; Forecast-GSV</th>\n",
       "      <th>Shipment History&amp;Forecast-GSV</th>\n",
       "    </tr>\n",
       "  </thead>\n",
       "  <tbody>\n",
       "    <tr>\n",
       "      <th>0</th>\n",
       "      <td>2023-04-01</td>\n",
       "      <td>2023-APR</td>\n",
       "      <td>CCA</td>\n",
       "      <td>DW44801-PH</td>\n",
       "      <td>2023-APR-CCA-NOT ASSIGNED-NOT ASSIGNED-NOT ASS...</td>\n",
       "      <td>1555.408</td>\n",
       "      <td>NAN</td>\n",
       "      <td>1850.94</td>\n",
       "      <td>NAN</td>\n",
       "    </tr>\n",
       "    <tr>\n",
       "      <th>1</th>\n",
       "      <td>2023-04-01</td>\n",
       "      <td>2023-APR</td>\n",
       "      <td>ECUADOR</td>\n",
       "      <td>DW44801-PH</td>\n",
       "      <td>2023-APR-ECUADOR-NOT ASSIGNED-NOT ASSIGNED-NOT...</td>\n",
       "      <td>498.018</td>\n",
       "      <td>NAN</td>\n",
       "      <td>393.43</td>\n",
       "      <td>NAN</td>\n",
       "    </tr>\n",
       "  </tbody>\n",
       "</table>\n",
       "</div>"
      ],
      "text/plain": [
       "      fk_Date fk_year_month fk_Country      fk_SKU  \\\n",
       "0  2023-04-01      2023-APR        CCA  DW44801-PH   \n",
       "1  2023-04-01      2023-APR    ECUADOR  DW44801-PH   \n",
       "\n",
       "                       fk_date_country_clasification  \\\n",
       "0  2023-APR-CCA-NOT ASSIGNED-NOT ASSIGNED-NOT ASS...   \n",
       "1  2023-APR-ECUADOR-NOT ASSIGNED-NOT ASSIGNED-NOT...   \n",
       "\n",
       "  Demand History & Forecast-QTY Shipment History& Forecast-Qty  \\\n",
       "0                      1555.408                            NAN   \n",
       "1                       498.018                            NAN   \n",
       "\n",
       "  Demand History & Forecast-GSV Shipment History&Forecast-GSV  \n",
       "0                       1850.94                           NAN  \n",
       "1                        393.43                           NAN  "
      ]
     },
     "execution_count": 3,
     "metadata": {},
     "output_type": "execute_result"
    }
   ],
   "source": [
    "df.head(2)"
   ]
  }
 ],
 "metadata": {
  "kernelspec": {
   "display_name": "venv_Scripts_Marketing_Analytics",
   "language": "python",
   "name": "python3"
  },
  "language_info": {
   "codemirror_mode": {
    "name": "ipython",
    "version": 3
   },
   "file_extension": ".py",
   "mimetype": "text/x-python",
   "name": "python",
   "nbconvert_exporter": "python",
   "pygments_lexer": "ipython3",
   "version": "3.13.2"
  }
 },
 "nbformat": 4,
 "nbformat_minor": 5
}
