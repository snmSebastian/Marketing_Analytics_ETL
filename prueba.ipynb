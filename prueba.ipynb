{
 "cells": [
  {
   "cell_type": "code",
   "execution_count": 51,
   "id": "241e90f6",
   "metadata": {},
   "outputs": [],
   "source": [
    "import pandas as pd\n",
    "ruta=r'C:\\Users\\SSN0609\\Stanley Black & Decker\\Latin America - Regional Marketing - Marketing Analytics\\Data\\Processed-Dataflow\\Master_Customers\\Master_Customers.xlsx'\n",
    "df=pd.read_excel(ruta)"
   ]
  },
  {
   "cell_type": "code",
   "execution_count": 52,
   "id": "be0f0179",
   "metadata": {},
   "outputs": [
    {
     "data": {
      "text/plain": [
       "Index(['fk_Country', 'Sold-To Customer Code', 'Sold-To Customer',\n",
       "       'fk_Dist_Channel', 'fk_Dist_Type', 'Price_Segment', 'Cust_Group'],\n",
       "      dtype='object')"
      ]
     },
     "execution_count": 52,
     "metadata": {},
     "output_type": "execute_result"
    }
   ],
   "source": [
    "df.columns"
   ]
  },
  {
   "cell_type": "code",
   "execution_count": 53,
   "id": "d2854933",
   "metadata": {},
   "outputs": [],
   "source": [
    "ruta=r'C:\\Users\\SSN0609\\Stanley Black & Decker\\Latin America - Regional Marketing - Marketing Analytics\\Data\\Processed-Dataflow\\Master_Customers\\prueba.xlsx'\n",
    "df=pd.read_excel(ruta)"
   ]
  },
  {
   "cell_type": "code",
   "execution_count": null,
   "id": "82a413e4",
   "metadata": {},
   "outputs": [
    {
     "data": {
      "text/plain": [
       "Index(['Unnamed: 0', 'Country Code', 'Destination Country',\n",
       "       'Sold-To Customer Code', 'Sold-To Customer', 'Sold-To Dist Channel',\n",
       "       'code concat country', 'fk_Country', 'fk_country_customer',\n",
       "       'Sold-To Dist Channel new', 'Sold-To Dist Channel1',\n",
       "       'Sold-To Dist Channel2'],\n",
       "      dtype='object')"
      ]
     },
     "execution_count": 54,
     "metadata": {},
     "output_type": "execute_result"
    }
   ],
   "source": [
    "df.columns\n",
    "['fk_Country','Sold-To Customer Code','Sold-To Customer','Sold-To Dist Channel2']"
   ]
  },
  {
   "cell_type": "code",
   "execution_count": 31,
   "id": "c359c46b",
   "metadata": {},
   "outputs": [
    {
     "data": {
      "text/plain": [
       "array(['CJ PONTAS PWR BIT IRW 5 PCS PH ETJ',\n",
       "       'CJ PONTAS PWR BIT IMPACT IRW5PCS PH#2 ET',\n",
       "       'ALICATE DE CORTE DIAGONA L 6\" (150MM) 10'], dtype=object)"
      ]
     },
     "execution_count": 31,
     "metadata": {},
     "output_type": "execute_result"
    }
   ],
   "source": [
    "df['fk_SKU'].unique()"
   ]
  }
 ],
 "metadata": {
  "kernelspec": {
   "display_name": "venv_Scripts_Marketing_Analytics",
   "language": "python",
   "name": "python3"
  },
  "language_info": {
   "codemirror_mode": {
    "name": "ipython",
    "version": 3
   },
   "file_extension": ".py",
   "mimetype": "text/x-python",
   "name": "python",
   "nbconvert_exporter": "python",
   "pygments_lexer": "ipython3",
   "version": "3.13.2"
  }
 },
 "nbformat": 4,
 "nbformat_minor": 5
}
