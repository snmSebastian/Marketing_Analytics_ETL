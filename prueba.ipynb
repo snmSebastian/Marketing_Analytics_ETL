{
 "cells": [
  {
   "cell_type": "code",
   "execution_count": 22,
   "id": "241e90f6",
   "metadata": {},
   "outputs": [],
   "source": [
    "import pandas as pd\n",
    "path_fill_rate=r'C:\\Users\\SSN0609\\Stanley Black & Decker\\Latin America - Regional Marketing - Marketing Analytics\\Data\\Raw\\Fill Rate\\Mothly_Update\\Download_Fill_Rate.xlsx'\n",
    "path_sales=r'C:\\Users\\SSN0609\\Stanley Black & Decker\\Latin America - Regional Marketing - Marketing Analytics\\Data\\Raw\\Sales\\Mothly_Update\\Download_Sales.xlsx'\n",
    "path_demnad=r'C:\\Users\\SSN0609\\Stanley Black & Decker\\Latin America - Regional Marketing - Marketing Analytics\\Data\\Raw\\Demand\\Mothly_Update\\Download_Demand.xlsx'\n",
    "\n",
    "df_fill=pd.read_excel(path_fill_rate, dtype=str, engine='openpyxl')\n",
    "df_sales=pd.read_excel(path_sales, dtype=str, engine='openpyxl')\n",
    "df_demand=pd.read_excel(path_demnad, dtype=str, engine='openpyxl')"
   ]
  },
  {
   "cell_type": "code",
   "execution_count": 23,
   "id": "5ded803f",
   "metadata": {},
   "outputs": [
    {
     "data": {
      "text/plain": [
       "['GPP Division Code',\n",
       " 'GPP Division',\n",
       " 'GPP Category',\n",
       " 'GPP Portfolio',\n",
       " 'Global Material',\n",
       " 'Global Material Description']"
      ]
     },
     "execution_count": 23,
     "metadata": {},
     "output_type": "execute_result"
    }
   ],
   "source": [
    "['GPP Division Code', 'GPP Division', 'GPP Category', 'GPP Portfolio',\n",
    "       'Country Material', 'Country Material Name']\n",
    "\n",
    "['GPP Division Code',\n",
    "       'GPP Division', 'GPP Category', 'GPP Portfolio', \n",
    "       'Global Material', 'Global Material Description']"
   ]
  },
  {
   "cell_type": "code",
   "execution_count": 24,
   "id": "fe3e013f",
   "metadata": {},
   "outputs": [
    {
     "data": {
      "text/plain": [
       "Index(['Fiscal Year', 'Fiscal Period', 'Country Code', 'Destination Country',\n",
       "       'Sold-To Customer Code', 'Sold-To Customer', 'Sold-To Dist Channel',\n",
       "       'GPP Division Code', 'GPP Division', 'GPP Category', 'GPP Portfolio',\n",
       "       'Country Material', 'Country Material Name', 'LAG Brand',\n",
       "       'Fill Rate First Pass Order Qty', 'Fill Rate First Pass Invoice Qty',\n",
       "       'Fill Rate First Pass Order $', 'Fill Rate First Pass Invoice $'],\n",
       "      dtype='object')"
      ]
     },
     "execution_count": 24,
     "metadata": {},
     "output_type": "execute_result"
    }
   ],
   "source": [
    "# fill rate\n",
    "df_fill.columns"
   ]
  },
  {
   "cell_type": "code",
   "execution_count": 25,
   "id": "f02d6f5e",
   "metadata": {},
   "outputs": [
    {
     "data": {
      "text/plain": [
       "Index(['Fiscal Year', 'Fiscal Period', 'Country Code', 'Destination Country',\n",
       "       'Sold-To Customer Code', 'Sold-To Customer', 'Sold-To Dist Channel',\n",
       "       'GPP Division Code', 'GPP Division', 'GPP Category', 'GPP Portfolio',\n",
       "       'Country Material', 'Country Material Name', 'LAG Brand', 'Total Sales',\n",
       "       'Total Cost', 'Units Sold'],\n",
       "      dtype='object')"
      ]
     },
     "execution_count": 25,
     "metadata": {},
     "output_type": "execute_result"
    }
   ],
   "source": [
    "# sales\n",
    "df_sales.columns"
   ]
  },
  {
   "cell_type": "code",
   "execution_count": 26,
   "id": "13a34d99",
   "metadata": {},
   "outputs": [
    {
     "data": {
      "text/plain": [
       "Index(['Plant Code', 'Demand Group', 'Fiscal Period', 'GPP Division Code',\n",
       "       'GPP Division', 'GPP Category', 'GPP Portfolio', 'Market Group',\n",
       "       'Global Material', 'Global Material Description', 'LAG Brand',\n",
       "       'Demand History & Forecast-QTY', 'Shipment History& Forecast-Qty',\n",
       "       'Demand History & Forecast-GSV', 'Shipment History&Forecast-GSV',\n",
       "       'Fiscal Year'],\n",
       "      dtype='object')"
      ]
     },
     "execution_count": 26,
     "metadata": {},
     "output_type": "execute_result"
    }
   ],
   "source": [
    "# demand\n",
    "df_demand.columns"
   ]
  },
  {
   "cell_type": "code",
   "execution_count": 27,
   "id": "57c632c1",
   "metadata": {},
   "outputs": [],
   "source": [
    "ruta_sku=r'C:\\Users\\SSN0609\\Stanley Black & Decker\\Latin America - Regional Marketing - Marketing Analytics\\Data\\Raw\\Products\\New_Product-prueba.xlsx'\n",
    "df_sku=pd.read_excel(ruta_sku)"
   ]
  },
  {
   "cell_type": "code",
   "execution_count": 28,
   "id": "adc2b07a",
   "metadata": {},
   "outputs": [
    {
     "data": {
      "text/plain": [
       "Index(['SKU', 'SKU Base', 'SKU Description', 'Brand ', 'GPP', 'GPP SBU',\n",
       "       'GPP SBU Description', 'SBU Type', 'GPP Division Code',\n",
       "       'GPP Division Description', 'GPP Category Code',\n",
       "       'GPP Category Description', 'GPP Portfolio Code',\n",
       "       'GPP Portfolio Description', 'Corded / Cordless', 'Batteries Qty',\n",
       "       'Voltaje', 'Bare', 'Sub-Brand', 'Brand Group', 'Brand + SBU', 'Group 1',\n",
       "       'Group 2', 'Category Group', 'Big Rock', 'Top Category', 'NPI Project',\n",
       "       'Categoria HTS', 'Familia HTS', 'Sub Familia HTS', 'Clase HTS',\n",
       "       'NPI Project HTS', 'Posicionamient HTS', 'Link'],\n",
       "      dtype='object')"
      ]
     },
     "execution_count": 28,
     "metadata": {},
     "output_type": "execute_result"
    }
   ],
   "source": [
    "df_sku.columns"
   ]
  }
 ],
 "metadata": {
  "kernelspec": {
   "display_name": "Python 3",
   "language": "python",
   "name": "python3"
  },
  "language_info": {
   "codemirror_mode": {
    "name": "ipython",
    "version": 3
   },
   "file_extension": ".py",
   "mimetype": "text/x-python",
   "name": "python",
   "nbconvert_exporter": "python",
   "pygments_lexer": "ipython3",
   "version": "3.13.2"
  }
 },
 "nbformat": 4,
 "nbformat_minor": 5
}
